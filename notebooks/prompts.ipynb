{
 "cells": [
  {
   "cell_type": "code",
   "execution_count": 14,
   "metadata": {},
   "outputs": [],
   "source": [
    "import openai\n",
    "import os, sys \n",
    "import json"
   ]
  },
  {
   "cell_type": "code",
   "execution_count": 15,
   "metadata": {},
   "outputs": [
    {
     "name": "stdout",
     "output_type": "stream",
     "text": [
      "<module 'openai' from '/Users/hima/.pyenv/versions/3.10.4/lib/python3.10/site-packages/openai/__init__.py'>\n"
     ]
    }
   ],
   "source": [
    "print(openai)\n",
    "openai.api_key = \"...\""
   ]
  },
  {
   "cell_type": "code",
   "execution_count": 33,
   "metadata": {},
   "outputs": [],
   "source": [
    "default_json_output_instructions = \"\"\"\n",
    "    Return output as a JSON list inside a code block.\n",
    "        \"\"\"\n"
   ]
  },
  {
   "cell_type": "code",
   "execution_count": 16,
   "metadata": {},
   "outputs": [],
   "source": [
    "messages = [\n",
    "        {\"role\": \"system\", \"content\": \"You are the distinguished principal staff tech lead engineer manager L10 at Google.\"},\n",
    "    ]"
   ]
  },
  {
   "cell_type": "code",
   "execution_count": 17,
   "metadata": {},
   "outputs": [],
   "source": [
    "\n",
    "def complete_response(message: str):\n",
    "    MODEL = \"gpt-3.5-turbo\"\n",
    "    response = openai.ChatCompletion.create(\n",
    "        model=MODEL,\n",
    "        messages=messages + [message],\n",
    "        temperature=0.3,\n",
    "    )\n",
    "    output = response['choices'][0]['message']['content']\n",
    "\n",
    "\n",
    "    return output"
   ]
  },
  {
   "cell_type": "code",
   "execution_count": 24,
   "metadata": {},
   "outputs": [
    {
     "name": "stdout",
     "output_type": "stream",
     "text": [
      "Here are the CLI commands for a CLI tool that encodes/decodes base64 strings with the ability to change encoding base:\n",
      "\n",
      "```\n",
      "[\n",
      "  {\n",
      "    \"command_name\": \"encode\",\n",
      "    \"options\": [\n",
      "      {\n",
      "        \"option_name\": \"-s, --string\",\n",
      "        \"option_description\": \"The string to encode in base64.\"\n",
      "      },\n",
      "      {\n",
      "        \"option_name\": \"-b, --base\",\n",
      "        \"option_description\": \"The base to use for encoding. Default is base64.\",\n",
      "        \"default\": \"base64\"\n",
      "      }\n",
      "    ]\n",
      "  },\n",
      "  {\n",
      "    \"command_name\": \"decode\",\n",
      "    \"options\": [\n",
      "      {\n",
      "        \"option_name\": \"-s, --string\",\n",
      "        \"option_description\": \"The base64 string to decode.\"\n",
      "      },\n",
      "      {\n",
      "        \"option_name\": \"-b, --base\",\n",
      "        \"option_description\": \"The base to use for decoding. Default is base64.\",\n",
      "        \"default\": \"base64\"\n",
      "      }\n",
      "    ]\n",
      "  }\n",
      "]\n",
      "```\n",
      "\n",
      "The output is a JSON list with two objects, one for the `encode` command and one for the `decode` command. Each object contains an array of options with their respective names and descriptions. The `base` option is optional and has a default value of `base64`.\n"
     ]
    }
   ],
   "source": [
    "cli_spec_list_raw_output = complete_response({\"content\": \n",
    "\"\"\"Generate the CLI commands for a CLI tool that:\n",
    "- Encodes/decoes base64 strings\n",
    "- There should be 2 separate commands for encode and decode\n",
    "- Allow user to change encoding base\n",
    "\n",
    "Return output as a JSON list. \n",
    "e.g. [{\"command_name\": \"...\",  [{\"option_name\": \"...\", \"option_description\": \"...}]}]\n",
    "\"\"\", \n",
    "\"role\": \"user\"},)\n",
    "\n",
    "print(cli_spec_list_raw_output)"
   ]
  },
  {
   "cell_type": "code",
   "execution_count": 25,
   "metadata": {},
   "outputs": [],
   "source": [
    "commands_list = \"\"\"\n",
    "[\n",
    "    {\n",
    "        'command_name': 'encode_base64',\n",
    "        'options': [\n",
    "            {\n",
    "                'option_name': '-s, --string',\n",
    "                'option_description': 'the string to encode'\n",
    "            },\n",
    "            {\n",
    "                'option_name': '-b, --base',\n",
    "                'option_description': 'the base to use for encoding (default: base64)'\n",
    "            }\n",
    "        ],\n",
    "        'example': \"encode_base64 -s 'Hello, world!' -b base32\"\n",
    "    },\n",
    "    {\n",
    "        'command_name': 'decode_base64',\n",
    "        'options': [\n",
    "            {\n",
    "                'option_name': '-s, --string',\n",
    "                'option_description': 'the string to decode'\n",
    "            },\n",
    "            {\n",
    "                'option_name': '-b, --base',\n",
    "                'option_description': 'the base to use for decoding (default: base64)'\n",
    "            }\n",
    "        ],\n",
    "        'example': \"decode_base64 -s 'SGVsbG8sIHdvcmxkIQ==' -b base32\"\n",
    "    }\n",
    "]\n",
    "\"\"\""
   ]
  },
  {
   "cell_type": "code",
   "execution_count": 28,
   "metadata": {},
   "outputs": [
    {
     "name": "stdout",
     "output_type": "stream",
     "text": [
      "[\n",
      "    {\n",
      "        \"method_signature\": \"def encode_base64(string: str, base: str = 'base64') -> str:\"\n",
      "    },\n",
      "    {\n",
      "        \"method_signature\": \"def decode_base64(string: str, base: str = 'base64') -> str:\"\n",
      "    }\n",
      "]\n"
     ]
    }
   ],
   "source": [
    "\n",
    "\n",
    "\n",
    "methods_list_raw_output = complete_response({\"content\": \n",
    "     f\"\"\"\n",
    "     For these CLI commands, write all the method signatures that we would need to implement them:\n",
    "    {commands_list}\n",
    "\n",
    "    Return output as a JSON list inside a code block.\n",
    "    Think step by step first.\n",
    "    e.g. [{{\"method_signature\": \"...\"}}]\n",
    "\n",
    "\"\"\", \n",
    "\"role\": \"user\"},)\n",
    "print(methods_list_raw_output)\n",
    "\n",
    "# methods_list = json.loads(methods_list_string)\n",
    "# print(methods_list)"
   ]
  },
  {
   "cell_type": "code",
   "execution_count": 30,
   "metadata": {},
   "outputs": [
    {
     "name": "stdout",
     "output_type": "stream",
     "text": [
      "Here's an implementation of the `encode_base64` function using the `base64` module in Python:\n",
      "\n",
      "```python\n",
      "import base64\n",
      "\n",
      "def encode_base64(string: str, base: str = 'base64') -> str:\n",
      "    if base == 'base64':\n",
      "        encoded_bytes = base64.b64encode(string.encode('utf-8'))\n",
      "    elif base == 'base32':\n",
      "        encoded_bytes = base64.b32encode(string.encode('utf-8'))\n",
      "    elif base == 'base16':\n",
      "        encoded_bytes = base64.b16encode(string.encode('utf-8'))\n",
      "    else:\n",
      "        raise ValueError('Invalid base specified')\n",
      "    return encoded_bytes.decode('utf-8')\n",
      "```\n",
      "\n",
      "This function takes in a string to encode and an optional `base` parameter indicating the base encoding to use (default is `base64`). It first checks if the specified base is valid, and then uses the appropriate `base64` encoding function to encode the string. Finally, it decodes the resulting bytes into a string and returns it.\n"
     ]
    }
   ],
   "source": [
    "def write_method_body_implementation(method_signature_payload):\n",
    "\n",
    "    body = complete_response({\"content\": \n",
    "        f\"\"\"\n",
    "        For this method signature, write the body implementation:\n",
    "        {method_signature_payload[\"method_signature\"]}\n",
    "\n",
    "        Return output inside a code block.\n",
    "\n",
    "    \"\"\", \n",
    "    \"role\": \"user\"},)\n",
    "    print(body)\n",
    "\n",
    "write_method_body_implementation(json.loads(\n",
    "    \"\"\"{\n",
    "        \"method_signature\": \"def encode_base64(string: str, base: str = 'base64') -> str:\"\n",
    "    }\"\"\"))"
   ]
  },
  {
   "cell_type": "code",
   "execution_count": 31,
   "metadata": {},
   "outputs": [],
   "source": [
    "method_body = \"\"\"\n",
    "```python\n",
    "import base64\n",
    "\n",
    "def encode_base64(string: str, base: str = 'base64') -> str:\n",
    "    if base == 'base64':\n",
    "        encoded_bytes = base64.b64encode(string.encode('utf-8'))\n",
    "    elif base == 'base32':\n",
    "        encoded_bytes = base64.b32encode(string.encode('utf-8'))\n",
    "    elif base == 'base16':\n",
    "        encoded_bytes = base64.b16encode(string.encode('utf-8'))\n",
    "    else:\n",
    "        raise ValueError('Invalid base specified')\n",
    "    return encoded_bytes.decode('utf-8')\n",
    "```\n",
    "\"\"\""
   ]
  },
  {
   "cell_type": "code",
   "execution_count": 37,
   "metadata": {},
   "outputs": [
    {
     "name": "stdout",
     "output_type": "stream",
     "text": [
      "[{\"test_name\": \"test_base64_encoding\", \"test_comment\": \"Test if the function correctly encodes a string using base64 encoding\"},\n",
      " {\"test_name\": \"test_base32_encoding\", \"test_comment\": \"Test if the function correctly encodes a string using base32 encoding\"},\n",
      " {\"test_name\": \"test_base16_encoding\", \"test_comment\": \"Test if the function correctly encodes a string using base16 encoding\"},\n",
      " {\"test_name\": \"test_invalid_base\", \"test_comment\": \"Test if the function raises a ValueError when an invalid base is specified\"},\n",
      " {\"test_name\": \"test_empty_string\", \"test_comment\": \"Test if the function correctly encodes an empty string\"}]\n"
     ]
    }
   ],
   "source": [
    "def write_method_test_signatures(method_body_string):\n",
    "\n",
    "    body = complete_response({\"content\": \n",
    "        f\"\"\"\n",
    "        For this given method implementation, write only descriptions for possible tests:\n",
    "        {method_body_string}\n",
    "\n",
    "        {default_json_output_instructions}\n",
    "        e.g. [{{\"test_name\": \"...\", \"test_comment\": \"...}}]\n",
    "\n",
    "    \"\"\", \n",
    "    \"role\": \"user\"},)\n",
    "    print(body)\n",
    "\n",
    "write_method_test_signatures(method_body)"
   ]
  },
  {
   "cell_type": "code",
   "execution_count": 39,
   "metadata": {},
   "outputs": [
    {
     "name": "stdout",
     "output_type": "stream",
     "text": [
      "{'test_name': 'test_encode_base64_with_base32', 'test_comment': 'Test encoding with base32'}\n"
     ]
    }
   ],
   "source": [
    "test_signature = json.loads(\"\"\"\n",
    "{\"test_name\": \"test_encode_base64_with_base32\", \"test_comment\": \"Test encoding with base32\"}\n",
    "\"\"\")"
   ]
  },
  {
   "cell_type": "code",
   "execution_count": 42,
   "metadata": {},
   "outputs": [
    {
     "name": "stdout",
     "output_type": "stream",
     "text": [
      "```python\n",
      "def test_encode_base64_with_base32():\n",
      "    input_str = \"Hello, World!\"\n",
      "    expected_output = \"JBSWY3DPEBLW64TMMQQQ====\"\n",
      "    actual_output = encode_base64_with_base32(input_str)\n",
      "    assert actual_output == expected_output, f\"Expected {expected_output}, but got {actual_output}\"\n",
      "```\n"
     ]
    }
   ],
   "source": [
    "def write_method_test_implementation(method_test_signature):\n",
    "\n",
    "    body = complete_response({\"content\": \n",
    "        f\"\"\"\n",
    "        For this given test info, write only the test implementation:\n",
    "        - test name: {method_test_signature[\"test_name\"]}\n",
    "        - test comment: {method_test_signature[\"test_comment\"]}\n",
    "        \n",
    "        Return output inside a code block, with language specified.\n",
    "\n",
    "    \"\"\", \n",
    "    \"role\": \"user\"},)\n",
    "    print(body)\n",
    "\n",
    "write_method_test_implementation(test_signature)"
   ]
  },
  {
   "cell_type": "code",
   "execution_count": null,
   "metadata": {},
   "outputs": [],
   "source": []
  },
  {
   "cell_type": "code",
   "execution_count": null,
   "metadata": {},
   "outputs": [],
   "source": []
  },
  {
   "cell_type": "code",
   "execution_count": null,
   "metadata": {},
   "outputs": [],
   "source": [
    "for method_signature_payload in methods_list:\n",
    "    method_implementation = write_method_implementation(method_signature_payload)\n",
    "    test_signatures = write_method_test_signatures(method_implementation)\n",
    "    \n",
    "    all_method_tests = []\n",
    "    for test_sig in test_signatures:\n",
    "        method_test_implementation = write_method_test_implementation(test_sig)\n",
    "        all_method_tests.append(method_test_implementation)\n",
    "\n",
    "    \n",
    "has_failures=False \n",
    "for test in all_method_tests:\n",
    "    test_result = run_test(test)\n",
    "    if test_result.status == \"failure\":\n",
    "        fix_code()\n",
    "        test_result = run_test(test)\n",
    "        # TODO\n",
    "\n",
    "\n",
    "\n",
    "    \n",
    "\n",
    "\n",
    "    \n",
    "\n"
   ]
  },
  {
   "cell_type": "code",
   "execution_count": null,
   "metadata": {},
   "outputs": [],
   "source": []
  }
 ],
 "metadata": {
  "kernelspec": {
   "display_name": "Python 3",
   "language": "python",
   "name": "python3"
  },
  "language_info": {
   "codemirror_mode": {
    "name": "ipython",
    "version": 3
   },
   "file_extension": ".py",
   "mimetype": "text/x-python",
   "name": "python",
   "nbconvert_exporter": "python",
   "pygments_lexer": "ipython3",
   "version": "3.10.4"
  },
  "orig_nbformat": 4
 },
 "nbformat": 4,
 "nbformat_minor": 2
}
